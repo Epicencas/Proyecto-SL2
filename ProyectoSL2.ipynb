{
  "nbformat": 4,
  "nbformat_minor": 0,
  "metadata": {
    "colab": {
      "provenance": [],
      "collapsed_sections": []
    },
    "kernelspec": {
      "name": "python3",
      "display_name": "Python 3"
    },
    "language_info": {
      "name": "python"
    }
  },
  "cells": [
    {
      "cell_type": "markdown",
      "source": [
        "# **Proyecto Final**: *Regresión para predicción de las notas de un curso de portugués*"
      ],
      "metadata": {
        "id": "u26jv0lxhc3Y"
      }
    },
    {
      "cell_type": "markdown",
      "source": [
        "## Nombre: **Erick Picén**     Carnet: **21000675**"
      ],
      "metadata": {
        "id": "J5tbz2b0iBqQ"
      }
    },
    {
      "cell_type": "markdown",
      "source": [
        "### **Link Video**: https://youtu.be/U8NFOk2dsjc"
      ],
      "metadata": {
        "id": "mVV0tDrlz5xc"
      }
    },
    {
      "cell_type": "markdown",
      "source": [
        "#### **Justificación**  \n",
        "\n",
        "*   La realización de los modelos se hace para ejercitar el uso de redes neuronales para regresión y en combinación con PCA.\n",
        "*   Obtención de mayor experiencia en análisis y predicción de datos que puede ser aplicado para un posible emprendimiento futuro.\n",
        "*   La realización de este modelo me genera valor a mí como estudiante de Business Ingelligence porque me permite aplicar los conocimientos vistos en clase ."
      ],
      "metadata": {
        "id": "a4ViEs_0_FvU"
      }
    },
    {
      "cell_type": "markdown",
      "source": [
        "### Preparación del Ambiente"
      ],
      "metadata": {
        "id": "MQgb43MSi9BX"
      }
    },
    {
      "cell_type": "code",
      "execution_count": null,
      "metadata": {
        "id": "H611XMk8i3v_"
      },
      "outputs": [],
      "source": [
        "import numpy as np\n",
        "import pandas as pd\n",
        "from sklearn.metrics import roc_auc_score, roc_curve\n",
        "from keras.wrappers.scikit_learn import KerasClassifier\n",
        "from sklearn.model_selection import cross_val_score\n",
        "from sklearn.metrics import accuracy_score\n",
        "from sklearn.model_selection import KFold\n",
        "from sklearn.model_selection import train_test_split\n",
        "import keras\n",
        "from keras.models import Sequential\n",
        "from keras.layers import Dense\n",
        "from sklearn.preprocessing import StandardScaler\n",
        "from tensorflow.keras.optimizers import Adam\n",
        "from sklearn.model_selection import GridSearchCV\n",
        "from keras.layers import Activation\n",
        "from keras.wrappers.scikit_learn import KerasRegressor\n",
        "from sklearn.metrics import r2_score\n",
        "from sklearn.metrics import mean_squared_error\n",
        "import math\n",
        "from sklearn.metrics import classification_report\n",
        "from sklearn.decomposition import PCA"
      ]
    },
    {
      "cell_type": "markdown",
      "source": [
        "### Carga de la Data"
      ],
      "metadata": {
        "id": "Zulykjq6l-ON"
      }
    },
    {
      "cell_type": "code",
      "source": [
        "data_path1 = '/content/drive/MyDrive/DataTratadaGradesF.csv'\n",
        "data = pd.read_csv(data_path1)\n",
        "data = data.drop(['Unnamed: 0'], axis=1)\n",
        "#https://www.kaggle.com/datasets/uciml/student-alcohol-consumption?resource=download"
      ],
      "metadata": {
        "id": "3LKEaCsxl9xP"
      },
      "execution_count": null,
      "outputs": []
    },
    {
      "cell_type": "code",
      "source": [
        "data.head()"
      ],
      "metadata": {
        "colab": {
          "base_uri": "https://localhost:8080/",
          "height": 300
        },
        "id": "mlWqR5Rr83Iy",
        "outputId": "f29734a2-127a-4ed9-dede-939083c16084"
      },
      "execution_count": null,
      "outputs": [
        {
          "output_type": "execute_result",
          "data": {
            "text/plain": [
              "     school       sex       age   address   famsize   Pstatus      Medu  \\\n",
              "0  0.730944  0.833377  1.031695  0.660182  0.648175 -2.666927  1.310216   \n",
              "1  0.730944  0.833377  0.210137  0.660182  0.648175  0.374963 -1.336039   \n",
              "2  0.730944  0.833377 -1.432980  0.660182 -1.542792  0.374963 -1.336039   \n",
              "3  0.730944  0.833377 -1.432980  0.660182  0.648175  0.374963  1.310216   \n",
              "4  0.730944  0.833377 -0.611422  0.660182  0.648175  0.374963  0.428131   \n",
              "\n",
              "       Fedu      Mjob      Fjob  ...    famrel  freetime     goout      Dalc  \\\n",
              "0  1.540715 -0.470921 -1.795986  ...  0.072606 -0.171647  0.693785 -0.543555   \n",
              "1 -1.188832 -0.470921  0.816589  ...  1.119748 -0.171647 -0.157380 -0.543555   \n",
              "2 -1.188832 -0.470921  0.816589  ...  0.072606 -0.171647 -1.008546  0.538553   \n",
              "3 -0.278983 -1.619103 -0.651505  ... -0.974536 -1.123771 -1.008546 -0.543555   \n",
              "4  0.630866  1.152371  0.816589  ...  0.072606 -0.171647 -1.008546 -0.543555   \n",
              "\n",
              "       Walc    health  absences        G1        G2  G3  \n",
              "0 -0.997695 -0.371042  0.106883 -2.459457 -0.226230  11  \n",
              "1 -0.997695 -0.371042 -0.369049 -0.888936 -0.226230  11  \n",
              "2  0.560678 -0.371042  0.582814  0.215824  0.503327  12  \n",
              "3 -0.997695  1.012903 -0.844980  0.956432  0.868105  14  \n",
              "4 -0.218508  1.012903 -0.844980 -0.153314  0.503327  13  \n",
              "\n",
              "[5 rows x 33 columns]"
            ],
            "text/html": [
              "\n",
              "  <div id=\"df-35fd048d-5197-4df4-89ee-16313cceb0fa\">\n",
              "    <div class=\"colab-df-container\">\n",
              "      <div>\n",
              "<style scoped>\n",
              "    .dataframe tbody tr th:only-of-type {\n",
              "        vertical-align: middle;\n",
              "    }\n",
              "\n",
              "    .dataframe tbody tr th {\n",
              "        vertical-align: top;\n",
              "    }\n",
              "\n",
              "    .dataframe thead th {\n",
              "        text-align: right;\n",
              "    }\n",
              "</style>\n",
              "<table border=\"1\" class=\"dataframe\">\n",
              "  <thead>\n",
              "    <tr style=\"text-align: right;\">\n",
              "      <th></th>\n",
              "      <th>school</th>\n",
              "      <th>sex</th>\n",
              "      <th>age</th>\n",
              "      <th>address</th>\n",
              "      <th>famsize</th>\n",
              "      <th>Pstatus</th>\n",
              "      <th>Medu</th>\n",
              "      <th>Fedu</th>\n",
              "      <th>Mjob</th>\n",
              "      <th>Fjob</th>\n",
              "      <th>...</th>\n",
              "      <th>famrel</th>\n",
              "      <th>freetime</th>\n",
              "      <th>goout</th>\n",
              "      <th>Dalc</th>\n",
              "      <th>Walc</th>\n",
              "      <th>health</th>\n",
              "      <th>absences</th>\n",
              "      <th>G1</th>\n",
              "      <th>G2</th>\n",
              "      <th>G3</th>\n",
              "    </tr>\n",
              "  </thead>\n",
              "  <tbody>\n",
              "    <tr>\n",
              "      <th>0</th>\n",
              "      <td>0.730944</td>\n",
              "      <td>0.833377</td>\n",
              "      <td>1.031695</td>\n",
              "      <td>0.660182</td>\n",
              "      <td>0.648175</td>\n",
              "      <td>-2.666927</td>\n",
              "      <td>1.310216</td>\n",
              "      <td>1.540715</td>\n",
              "      <td>-0.470921</td>\n",
              "      <td>-1.795986</td>\n",
              "      <td>...</td>\n",
              "      <td>0.072606</td>\n",
              "      <td>-0.171647</td>\n",
              "      <td>0.693785</td>\n",
              "      <td>-0.543555</td>\n",
              "      <td>-0.997695</td>\n",
              "      <td>-0.371042</td>\n",
              "      <td>0.106883</td>\n",
              "      <td>-2.459457</td>\n",
              "      <td>-0.226230</td>\n",
              "      <td>11</td>\n",
              "    </tr>\n",
              "    <tr>\n",
              "      <th>1</th>\n",
              "      <td>0.730944</td>\n",
              "      <td>0.833377</td>\n",
              "      <td>0.210137</td>\n",
              "      <td>0.660182</td>\n",
              "      <td>0.648175</td>\n",
              "      <td>0.374963</td>\n",
              "      <td>-1.336039</td>\n",
              "      <td>-1.188832</td>\n",
              "      <td>-0.470921</td>\n",
              "      <td>0.816589</td>\n",
              "      <td>...</td>\n",
              "      <td>1.119748</td>\n",
              "      <td>-0.171647</td>\n",
              "      <td>-0.157380</td>\n",
              "      <td>-0.543555</td>\n",
              "      <td>-0.997695</td>\n",
              "      <td>-0.371042</td>\n",
              "      <td>-0.369049</td>\n",
              "      <td>-0.888936</td>\n",
              "      <td>-0.226230</td>\n",
              "      <td>11</td>\n",
              "    </tr>\n",
              "    <tr>\n",
              "      <th>2</th>\n",
              "      <td>0.730944</td>\n",
              "      <td>0.833377</td>\n",
              "      <td>-1.432980</td>\n",
              "      <td>0.660182</td>\n",
              "      <td>-1.542792</td>\n",
              "      <td>0.374963</td>\n",
              "      <td>-1.336039</td>\n",
              "      <td>-1.188832</td>\n",
              "      <td>-0.470921</td>\n",
              "      <td>0.816589</td>\n",
              "      <td>...</td>\n",
              "      <td>0.072606</td>\n",
              "      <td>-0.171647</td>\n",
              "      <td>-1.008546</td>\n",
              "      <td>0.538553</td>\n",
              "      <td>0.560678</td>\n",
              "      <td>-0.371042</td>\n",
              "      <td>0.582814</td>\n",
              "      <td>0.215824</td>\n",
              "      <td>0.503327</td>\n",
              "      <td>12</td>\n",
              "    </tr>\n",
              "    <tr>\n",
              "      <th>3</th>\n",
              "      <td>0.730944</td>\n",
              "      <td>0.833377</td>\n",
              "      <td>-1.432980</td>\n",
              "      <td>0.660182</td>\n",
              "      <td>0.648175</td>\n",
              "      <td>0.374963</td>\n",
              "      <td>1.310216</td>\n",
              "      <td>-0.278983</td>\n",
              "      <td>-1.619103</td>\n",
              "      <td>-0.651505</td>\n",
              "      <td>...</td>\n",
              "      <td>-0.974536</td>\n",
              "      <td>-1.123771</td>\n",
              "      <td>-1.008546</td>\n",
              "      <td>-0.543555</td>\n",
              "      <td>-0.997695</td>\n",
              "      <td>1.012903</td>\n",
              "      <td>-0.844980</td>\n",
              "      <td>0.956432</td>\n",
              "      <td>0.868105</td>\n",
              "      <td>14</td>\n",
              "    </tr>\n",
              "    <tr>\n",
              "      <th>4</th>\n",
              "      <td>0.730944</td>\n",
              "      <td>0.833377</td>\n",
              "      <td>-0.611422</td>\n",
              "      <td>0.660182</td>\n",
              "      <td>0.648175</td>\n",
              "      <td>0.374963</td>\n",
              "      <td>0.428131</td>\n",
              "      <td>0.630866</td>\n",
              "      <td>1.152371</td>\n",
              "      <td>0.816589</td>\n",
              "      <td>...</td>\n",
              "      <td>0.072606</td>\n",
              "      <td>-0.171647</td>\n",
              "      <td>-1.008546</td>\n",
              "      <td>-0.543555</td>\n",
              "      <td>-0.218508</td>\n",
              "      <td>1.012903</td>\n",
              "      <td>-0.844980</td>\n",
              "      <td>-0.153314</td>\n",
              "      <td>0.503327</td>\n",
              "      <td>13</td>\n",
              "    </tr>\n",
              "  </tbody>\n",
              "</table>\n",
              "<p>5 rows × 33 columns</p>\n",
              "</div>\n",
              "      <button class=\"colab-df-convert\" onclick=\"convertToInteractive('df-35fd048d-5197-4df4-89ee-16313cceb0fa')\"\n",
              "              title=\"Convert this dataframe to an interactive table.\"\n",
              "              style=\"display:none;\">\n",
              "        \n",
              "  <svg xmlns=\"http://www.w3.org/2000/svg\" height=\"24px\"viewBox=\"0 0 24 24\"\n",
              "       width=\"24px\">\n",
              "    <path d=\"M0 0h24v24H0V0z\" fill=\"none\"/>\n",
              "    <path d=\"M18.56 5.44l.94 2.06.94-2.06 2.06-.94-2.06-.94-.94-2.06-.94 2.06-2.06.94zm-11 1L8.5 8.5l.94-2.06 2.06-.94-2.06-.94L8.5 2.5l-.94 2.06-2.06.94zm10 10l.94 2.06.94-2.06 2.06-.94-2.06-.94-.94-2.06-.94 2.06-2.06.94z\"/><path d=\"M17.41 7.96l-1.37-1.37c-.4-.4-.92-.59-1.43-.59-.52 0-1.04.2-1.43.59L10.3 9.45l-7.72 7.72c-.78.78-.78 2.05 0 2.83L4 21.41c.39.39.9.59 1.41.59.51 0 1.02-.2 1.41-.59l7.78-7.78 2.81-2.81c.8-.78.8-2.07 0-2.86zM5.41 20L4 18.59l7.72-7.72 1.47 1.35L5.41 20z\"/>\n",
              "  </svg>\n",
              "      </button>\n",
              "      \n",
              "  <style>\n",
              "    .colab-df-container {\n",
              "      display:flex;\n",
              "      flex-wrap:wrap;\n",
              "      gap: 12px;\n",
              "    }\n",
              "\n",
              "    .colab-df-convert {\n",
              "      background-color: #E8F0FE;\n",
              "      border: none;\n",
              "      border-radius: 50%;\n",
              "      cursor: pointer;\n",
              "      display: none;\n",
              "      fill: #1967D2;\n",
              "      height: 32px;\n",
              "      padding: 0 0 0 0;\n",
              "      width: 32px;\n",
              "    }\n",
              "\n",
              "    .colab-df-convert:hover {\n",
              "      background-color: #E2EBFA;\n",
              "      box-shadow: 0px 1px 2px rgba(60, 64, 67, 0.3), 0px 1px 3px 1px rgba(60, 64, 67, 0.15);\n",
              "      fill: #174EA6;\n",
              "    }\n",
              "\n",
              "    [theme=dark] .colab-df-convert {\n",
              "      background-color: #3B4455;\n",
              "      fill: #D2E3FC;\n",
              "    }\n",
              "\n",
              "    [theme=dark] .colab-df-convert:hover {\n",
              "      background-color: #434B5C;\n",
              "      box-shadow: 0px 1px 3px 1px rgba(0, 0, 0, 0.15);\n",
              "      filter: drop-shadow(0px 1px 2px rgba(0, 0, 0, 0.3));\n",
              "      fill: #FFFFFF;\n",
              "    }\n",
              "  </style>\n",
              "\n",
              "      <script>\n",
              "        const buttonEl =\n",
              "          document.querySelector('#df-35fd048d-5197-4df4-89ee-16313cceb0fa button.colab-df-convert');\n",
              "        buttonEl.style.display =\n",
              "          google.colab.kernel.accessAllowed ? 'block' : 'none';\n",
              "\n",
              "        async function convertToInteractive(key) {\n",
              "          const element = document.querySelector('#df-35fd048d-5197-4df4-89ee-16313cceb0fa');\n",
              "          const dataTable =\n",
              "            await google.colab.kernel.invokeFunction('convertToInteractive',\n",
              "                                                     [key], {});\n",
              "          if (!dataTable) return;\n",
              "\n",
              "          const docLinkHtml = 'Like what you see? Visit the ' +\n",
              "            '<a target=\"_blank\" href=https://colab.research.google.com/notebooks/data_table.ipynb>data table notebook</a>'\n",
              "            + ' to learn more about interactive tables.';\n",
              "          element.innerHTML = '';\n",
              "          dataTable['output_type'] = 'display_data';\n",
              "          await google.colab.output.renderOutput(dataTable, element);\n",
              "          const docLink = document.createElement('div');\n",
              "          docLink.innerHTML = docLinkHtml;\n",
              "          element.appendChild(docLink);\n",
              "        }\n",
              "      </script>\n",
              "    </div>\n",
              "  </div>\n",
              "  "
            ]
          },
          "metadata": {},
          "execution_count": 3
        }
      ]
    },
    {
      "cell_type": "code",
      "source": [
        "data.shape"
      ],
      "metadata": {
        "colab": {
          "base_uri": "https://localhost:8080/"
        },
        "id": "pS29GsVJ_ymv",
        "outputId": "a1f6cfc4-1c5e-4402-97f7-b65b2aac2fc3"
      },
      "execution_count": null,
      "outputs": [
        {
          "output_type": "execute_result",
          "data": {
            "text/plain": [
              "(649, 33)"
            ]
          },
          "metadata": {},
          "execution_count": 4
        }
      ]
    },
    {
      "cell_type": "markdown",
      "source": [
        "### Separación Data para Entrenamiento y para Validación"
      ],
      "metadata": {
        "id": "7luK0nowjENo"
      }
    },
    {
      "cell_type": "code",
      "source": [
        "X = data.iloc[:, data.columns != 'G3']\n",
        "y = data.loc[:, 'G3']"
      ],
      "metadata": {
        "id": "d7FJwa-pjErJ"
      },
      "execution_count": null,
      "outputs": []
    },
    {
      "cell_type": "code",
      "source": [
        "X_train, X_test, y_train, y_test = train_test_split(X, y, test_size=0.2, shuffle=True, random_state=1234)"
      ],
      "metadata": {
        "id": "IBllmxgAjMM4"
      },
      "execution_count": null,
      "outputs": []
    },
    {
      "cell_type": "markdown",
      "source": [
        "### **Función para Generar Arquitectura Dinámica**"
      ],
      "metadata": {
        "id": "8OZ9QfmljpSs"
      }
    },
    {
      "cell_type": "code",
      "source": [
        "def create_dynamicNeuralNet(layers, activation_fn, tipo, lr, n_inputs, n_clases):\n",
        "  modelo = Sequential()\n",
        "\n",
        "  for i, nodes in enumerate(layers):\n",
        "    if(i == 0):\n",
        "      modelo.add(Dense(units=nodes, input_dim=n_inputs))\n",
        "      modelo.add(Activation(activation_fn))\n",
        "    else:\n",
        "      modelo.add(Dense(units=nodes))\n",
        "      modelo.add(Activation(activation_fn))\n",
        "\n",
        "    if(tipo == \"regresion\"):\n",
        "      modelo.compile(loss=\"mean_squared_error\", optimizer=Adam(lr), metrics=['mean_squared_error'])\n",
        "      out_activation='relu'\n",
        "      classes_out = 1\n",
        "    else:\n",
        "      modelo.compile(loss=\"binary_crossentropy\", optimizer=Adam(lr), metrics=['accuracy'])\n",
        "      out_activation='sigmoid'\n",
        "      classes_out = n_clases[0]\n",
        "      if(classes_out == 2):\n",
        "        classes_out = 1\n",
        "    modelo.add(Dense(units=classes_out, activation=out_activation))\n",
        "    return modelo\n"
      ],
      "metadata": {
        "id": "fHllnXfRjQ_V"
      },
      "execution_count": null,
      "outputs": []
    },
    {
      "cell_type": "code",
      "source": [
        "modeloFinal = KerasRegressor(build_fn=create_dynamicNeuralNet, verbose=0)"
      ],
      "metadata": {
        "colab": {
          "base_uri": "https://localhost:8080/"
        },
        "id": "5PLYVbTVlSy-",
        "outputId": "3c5709d4-de00-4c7a-d931-88ee714044e1"
      },
      "execution_count": null,
      "outputs": [
        {
          "output_type": "stream",
          "name": "stderr",
          "text": [
            "/usr/local/lib/python3.7/dist-packages/ipykernel_launcher.py:1: DeprecationWarning: KerasRegressor is deprecated, use Sci-Keras (https://github.com/adriangb/scikeras) instead. See https://www.adriangb.com/scikeras/stable/migration.html for help migrating.\n",
            "  \"\"\"Entry point for launching an IPython kernel.\n"
          ]
        }
      ]
    },
    {
      "cell_type": "markdown",
      "source": [
        "### **Arquitectura 1**"
      ],
      "metadata": {
        "id": "Llnsq1ftm32G"
      }
    },
    {
      "cell_type": "code",
      "source": [
        "parametros = {\n",
        "    'batch_size': [35],\n",
        "    'activation_fn': ['relu'],\n",
        "    'epochs': [800],\n",
        "    'lr': [0.001],\n",
        "    'layers': [(2, 3, 2)],\n",
        "    'tipo': ['regresion'],\n",
        "    'n_inputs': [X_train.shape[1]],\n",
        "    'n_clases': [len(y_train.value_counts())]\n",
        "}"
      ],
      "metadata": {
        "id": "XlM0AVOrlY-e"
      },
      "execution_count": null,
      "outputs": []
    },
    {
      "cell_type": "code",
      "source": [
        "grid_out = GridSearchCV(estimator=modeloFinal, param_grid=parametros)"
      ],
      "metadata": {
        "id": "8S66moDil4Ek"
      },
      "execution_count": null,
      "outputs": []
    },
    {
      "cell_type": "code",
      "source": [
        "grid_result = grid_out.fit(X_train, y_train)"
      ],
      "metadata": {
        "id": "2eTwsK4vnU1d",
        "colab": {
          "base_uri": "https://localhost:8080/"
        },
        "outputId": "1cb7c90d-201c-45e6-dcac-56472f6142b5"
      },
      "execution_count": null,
      "outputs": [
        {
          "output_type": "stream",
          "name": "stderr",
          "text": [
            "WARNING:tensorflow:5 out of the last 13 calls to <function Model.make_test_function.<locals>.test_function at 0x7fd4dd1fe4d0> triggered tf.function retracing. Tracing is expensive and the excessive number of tracings could be due to (1) creating @tf.function repeatedly in a loop, (2) passing tensors with different shapes, (3) passing Python objects instead of tensors. For (1), please define your @tf.function outside of the loop. For (2), @tf.function has experimental_relax_shapes=True option that relaxes argument shapes that can avoid unnecessary retracing. For (3), please refer to https://www.tensorflow.org/guide/function#controlling_retracing and https://www.tensorflow.org/api_docs/python/tf/function for  more details.\n"
          ]
        }
      ]
    },
    {
      "cell_type": "code",
      "source": [
        "y_preds_1 = grid_result.predict(X_test)"
      ],
      "metadata": {
        "id": "iETfxeDixK0U"
      },
      "execution_count": null,
      "outputs": []
    },
    {
      "cell_type": "markdown",
      "source": [
        "### Métricas de la Arquitectura 1"
      ],
      "metadata": {
        "id": "8ZjWO1BumOzF"
      }
    },
    {
      "cell_type": "code",
      "source": [
        "r2r1 =r2_score(y_test, y_preds_1)\n",
        "r2r1"
      ],
      "metadata": {
        "colab": {
          "base_uri": "https://localhost:8080/"
        },
        "id": "g0vEthUiJMCX",
        "outputId": "90140ccf-1605-4a81-caa4-47a2fd70ebcc"
      },
      "execution_count": null,
      "outputs": [
        {
          "output_type": "execute_result",
          "data": {
            "text/plain": [
              "0.7374939200041192"
            ]
          },
          "metadata": {},
          "execution_count": 13
        }
      ]
    },
    {
      "cell_type": "code",
      "source": [
        "MSE = mean_squared_error(y_test, y_preds_1)\n",
        "RMSE1 = math.sqrt(MSE)\n",
        "RMSE1 "
      ],
      "metadata": {
        "colab": {
          "base_uri": "https://localhost:8080/"
        },
        "id": "UqZySmTJKNhV",
        "outputId": "27c7af39-cd99-44cc-97e5-4b09494b4ede"
      },
      "execution_count": null,
      "outputs": [
        {
          "output_type": "execute_result",
          "data": {
            "text/plain": [
              "1.7667921632003816"
            ]
          },
          "metadata": {},
          "execution_count": 14
        }
      ]
    },
    {
      "cell_type": "markdown",
      "source": [
        "### **Arquitectura 2**"
      ],
      "metadata": {
        "id": "LhVvWNOYmcCo"
      }
    },
    {
      "cell_type": "code",
      "source": [
        "parametros2 = {\n",
        "    'batch_size': [25],\n",
        "    'activation_fn': ['relu'],\n",
        "    'epochs': [1000],\n",
        "    'lr': [0.001],\n",
        "    'layers': [(5, 5, 3)],\n",
        "    'tipo': ['regresion'],\n",
        "    'n_inputs': [X_train.shape[1]],\n",
        "    'n_clases': [len(y_train.value_counts())]\n",
        "}"
      ],
      "metadata": {
        "id": "F694Wd-tmbDV"
      },
      "execution_count": null,
      "outputs": []
    },
    {
      "cell_type": "code",
      "source": [
        "grid_out2 = GridSearchCV(estimator=modeloFinal, param_grid=parametros2)"
      ],
      "metadata": {
        "id": "AAWJI9AkoW6R"
      },
      "execution_count": null,
      "outputs": []
    },
    {
      "cell_type": "code",
      "source": [
        "grid_result2 = grid_out2.fit(X_train, y_train)"
      ],
      "metadata": {
        "id": "9oZIclbyoWvs",
        "colab": {
          "base_uri": "https://localhost:8080/"
        },
        "outputId": "98e66f5f-c1d3-442e-d4c6-902793674645"
      },
      "execution_count": null,
      "outputs": [
        {
          "output_type": "stream",
          "name": "stderr",
          "text": [
            "WARNING:tensorflow:5 out of the last 13 calls to <function Model.make_test_function.<locals>.test_function at 0x7fd4dcf07f80> triggered tf.function retracing. Tracing is expensive and the excessive number of tracings could be due to (1) creating @tf.function repeatedly in a loop, (2) passing tensors with different shapes, (3) passing Python objects instead of tensors. For (1), please define your @tf.function outside of the loop. For (2), @tf.function has experimental_relax_shapes=True option that relaxes argument shapes that can avoid unnecessary retracing. For (3), please refer to https://www.tensorflow.org/guide/function#controlling_retracing and https://www.tensorflow.org/api_docs/python/tf/function for  more details.\n"
          ]
        }
      ]
    },
    {
      "cell_type": "code",
      "source": [
        "y_preds_2 = grid_result2.predict(X_test)"
      ],
      "metadata": {
        "id": "aqQP_CsJoWjn"
      },
      "execution_count": null,
      "outputs": []
    },
    {
      "cell_type": "markdown",
      "source": [
        "### Métricas Arquitectura 2"
      ],
      "metadata": {
        "id": "nDKbxgBlof1o"
      }
    },
    {
      "cell_type": "code",
      "source": [
        "r2r2 =r2_score(y_test, y_preds_2)\n",
        "r2r2"
      ],
      "metadata": {
        "colab": {
          "base_uri": "https://localhost:8080/"
        },
        "id": "_lKxyBvFoiZo",
        "outputId": "3bd31741-b3ea-4855-c012-36f1013de452"
      },
      "execution_count": null,
      "outputs": [
        {
          "output_type": "execute_result",
          "data": {
            "text/plain": [
              "0.6340758215196312"
            ]
          },
          "metadata": {},
          "execution_count": 19
        }
      ]
    },
    {
      "cell_type": "code",
      "source": [
        "MSE = mean_squared_error(y_test, y_preds_2)\n",
        "RMSE2 = math.sqrt(MSE)\n",
        "RMSE2 "
      ],
      "metadata": {
        "colab": {
          "base_uri": "https://localhost:8080/"
        },
        "id": "DbTv4I0do6Hl",
        "outputId": "5c726936-cd3e-4c55-81d7-cdc05a207f68"
      },
      "execution_count": null,
      "outputs": [
        {
          "output_type": "execute_result",
          "data": {
            "text/plain": [
              "2.0859857347190585"
            ]
          },
          "metadata": {},
          "execution_count": 20
        }
      ]
    },
    {
      "cell_type": "markdown",
      "source": [
        "### **Arquitectura 3**"
      ],
      "metadata": {
        "id": "AWvNsmOmp0Tq"
      }
    },
    {
      "cell_type": "code",
      "source": [
        "parametros3 = {\n",
        "    'batch_size': [15],\n",
        "    'activation_fn': ['relu'],\n",
        "    'epochs': [100],\n",
        "    'lr': [0.01],\n",
        "    'layers': [(2, 2, 2)],\n",
        "    'tipo': ['regresion'],\n",
        "    'n_inputs': [X_train.shape[1]],\n",
        "    'n_clases': [len(y_train.value_counts())]\n",
        "}"
      ],
      "metadata": {
        "id": "v6bHzOEtp3Fc"
      },
      "execution_count": null,
      "outputs": []
    },
    {
      "cell_type": "code",
      "source": [
        "grid_out3 = GridSearchCV(estimator=modeloFinal, param_grid=parametros3)"
      ],
      "metadata": {
        "id": "0Ue5qhaUqE6l"
      },
      "execution_count": null,
      "outputs": []
    },
    {
      "cell_type": "code",
      "source": [
        "grid_result3 = grid_out3.fit(X_train, y_train)"
      ],
      "metadata": {
        "id": "JDYjrBryqF9Y"
      },
      "execution_count": null,
      "outputs": []
    },
    {
      "cell_type": "code",
      "source": [
        "y_preds_3 = grid_result3.predict(X_test)"
      ],
      "metadata": {
        "id": "FI7uojx_qJnr"
      },
      "execution_count": null,
      "outputs": []
    },
    {
      "cell_type": "markdown",
      "source": [
        "### Métricas Arquitectura 3"
      ],
      "metadata": {
        "id": "ppU5J55Iqmwm"
      }
    },
    {
      "cell_type": "code",
      "source": [
        "r2r3 =r2_score(y_test, y_preds_3)\n",
        "r2r3"
      ],
      "metadata": {
        "colab": {
          "base_uri": "https://localhost:8080/"
        },
        "id": "fzkWNIhIqpPo",
        "outputId": "7785c983-0fff-486f-c86c-b32746f9c47a"
      },
      "execution_count": null,
      "outputs": [
        {
          "output_type": "execute_result",
          "data": {
            "text/plain": [
              "0.6729759034985793"
            ]
          },
          "metadata": {},
          "execution_count": 25
        }
      ]
    },
    {
      "cell_type": "code",
      "source": [
        "MSE = mean_squared_error(y_test, y_preds_3)\n",
        "RMSE3 = math.sqrt(MSE)\n",
        "RMSE3"
      ],
      "metadata": {
        "colab": {
          "base_uri": "https://localhost:8080/"
        },
        "id": "x49U7DVHqqc3",
        "outputId": "4fdf39a9-3402-460b-fa8d-635cde7d612f"
      },
      "execution_count": null,
      "outputs": [
        {
          "output_type": "execute_result",
          "data": {
            "text/plain": [
              "1.9719943128167856"
            ]
          },
          "metadata": {},
          "execution_count": 26
        }
      ]
    },
    {
      "cell_type": "markdown",
      "source": [
        "### **Arquitectura 4**"
      ],
      "metadata": {
        "id": "Co9JuTd3s_DM"
      }
    },
    {
      "cell_type": "code",
      "source": [
        "parametros4 = {\n",
        "    'batch_size': [50],\n",
        "    'activation_fn': ['relu'],\n",
        "    'epochs': [480],\n",
        "    'lr': [0.01],\n",
        "    'layers': [(3,  20, 15)],\n",
        "    'tipo': ['regresion'],\n",
        "    'n_inputs': [X_train.shape[1]],\n",
        "    'n_clases': [len(y_train.value_counts())]\n",
        "}"
      ],
      "metadata": {
        "id": "4eRdw-9OrwUh"
      },
      "execution_count": null,
      "outputs": []
    },
    {
      "cell_type": "code",
      "source": [
        "grid_out4 = GridSearchCV(estimator=modeloFinal, param_grid=parametros4)"
      ],
      "metadata": {
        "id": "R7yMYW13tIdC"
      },
      "execution_count": null,
      "outputs": []
    },
    {
      "cell_type": "code",
      "source": [
        "grid_result4 = grid_out4.fit(X_train, y_train)"
      ],
      "metadata": {
        "id": "ZG436UZ-tIZZ"
      },
      "execution_count": null,
      "outputs": []
    },
    {
      "cell_type": "code",
      "source": [
        "y_preds_4 = grid_result4.predict(X_test)"
      ],
      "metadata": {
        "id": "tiAyP8B9tIXw"
      },
      "execution_count": null,
      "outputs": []
    },
    {
      "cell_type": "markdown",
      "source": [
        "### Métricas Arquitectura 4"
      ],
      "metadata": {
        "id": "zYYFpKR-tOBV"
      }
    },
    {
      "cell_type": "code",
      "source": [
        "r2r4 =r2_score(y_test, y_preds_4)\n",
        "r2r4"
      ],
      "metadata": {
        "colab": {
          "base_uri": "https://localhost:8080/"
        },
        "id": "RG2xDp04tILx",
        "outputId": "ac3e8377-4c76-4c63-ec3e-383d91819a17"
      },
      "execution_count": null,
      "outputs": [
        {
          "output_type": "execute_result",
          "data": {
            "text/plain": [
              "0.6992773395498678"
            ]
          },
          "metadata": {},
          "execution_count": 31
        }
      ]
    },
    {
      "cell_type": "code",
      "source": [
        "MSE = mean_squared_error(y_test, y_preds_4)\n",
        "RMSE4 = math.sqrt(MSE)\n",
        "RMSE4"
      ],
      "metadata": {
        "colab": {
          "base_uri": "https://localhost:8080/"
        },
        "id": "caJnmrCgtVKt",
        "outputId": "5368af23-65ca-4eb7-c1d9-0b22e00afef1"
      },
      "execution_count": null,
      "outputs": [
        {
          "output_type": "execute_result",
          "data": {
            "text/plain": [
              "1.8910319141352765"
            ]
          },
          "metadata": {},
          "execution_count": 32
        }
      ]
    },
    {
      "cell_type": "markdown",
      "source": [
        "### **Arquitectura 5**"
      ],
      "metadata": {
        "id": "861GaCyxw_ZZ"
      }
    },
    {
      "cell_type": "code",
      "source": [
        "parametros5 = {\n",
        "    'batch_size': [75],\n",
        "    'activation_fn': ['relu'],\n",
        "    'epochs': [880],\n",
        "    'lr': [0.001],\n",
        "    'layers': [(20, 30, 25)],\n",
        "    'tipo': ['regresion'],\n",
        "    'n_inputs': [X_train.shape[1]],\n",
        "    'n_clases': [len(y_train.value_counts())]\n",
        "}"
      ],
      "metadata": {
        "id": "w4xtRL2ww291"
      },
      "execution_count": null,
      "outputs": []
    },
    {
      "cell_type": "code",
      "source": [
        "grid_out5 = GridSearchCV(estimator=modeloFinal, param_grid=parametros5)"
      ],
      "metadata": {
        "id": "oyAZ9k1Ou0C4"
      },
      "execution_count": null,
      "outputs": []
    },
    {
      "cell_type": "code",
      "source": [
        "grid_result5 = grid_out5.fit(X_train, y_train)"
      ],
      "metadata": {
        "id": "nZCDWsTUxYy_"
      },
      "execution_count": null,
      "outputs": []
    },
    {
      "cell_type": "code",
      "source": [
        "y_preds_5 = grid_result5.predict(X_test)"
      ],
      "metadata": {
        "id": "obtDC5dYxYwf"
      },
      "execution_count": null,
      "outputs": []
    },
    {
      "cell_type": "markdown",
      "source": [
        "### Métricas Arquitectura 5"
      ],
      "metadata": {
        "id": "3I2UYMdGxfy1"
      }
    },
    {
      "cell_type": "code",
      "source": [
        "r2r5 = r2_score(y_test, y_preds_5)\n",
        "r2r5"
      ],
      "metadata": {
        "colab": {
          "base_uri": "https://localhost:8080/"
        },
        "id": "PirU9X7yxYaZ",
        "outputId": "74baaf85-b2bf-4226-91ce-cef8adffef20"
      },
      "execution_count": null,
      "outputs": [
        {
          "output_type": "execute_result",
          "data": {
            "text/plain": [
              "0.5548735145662009"
            ]
          },
          "metadata": {},
          "execution_count": 37
        }
      ]
    },
    {
      "cell_type": "code",
      "source": [
        "MSE = mean_squared_error(y_test, y_preds_5)\n",
        "RMSE5 = math.sqrt(MSE)\n",
        "RMSE5"
      ],
      "metadata": {
        "colab": {
          "base_uri": "https://localhost:8080/"
        },
        "id": "MvZdOCgoxpx5",
        "outputId": "708199f0-b09a-4a1e-b12f-36b86da8db17"
      },
      "execution_count": null,
      "outputs": [
        {
          "output_type": "execute_result",
          "data": {
            "text/plain": [
              "2.30068678990635"
            ]
          },
          "metadata": {},
          "execution_count": 38
        }
      ]
    },
    {
      "cell_type": "markdown",
      "source": [
        "### **Arquitectura 6**"
      ],
      "metadata": {
        "id": "HDhQxj7AzHFn"
      }
    },
    {
      "cell_type": "code",
      "source": [
        "parametros6 = {\n",
        "    'batch_size': [10],\n",
        "    'activation_fn': ['relu'],\n",
        "    'epochs': [150],\n",
        "    'lr': [0.01],\n",
        "    'layers': [(2, 5, 3)],\n",
        "    'tipo': ['regresion'],\n",
        "    'n_inputs': [X_train.shape[1]],\n",
        "    'n_clases': [len(y_train.value_counts())]\n",
        "}"
      ],
      "metadata": {
        "id": "pVM_PovRyHFb"
      },
      "execution_count": null,
      "outputs": []
    },
    {
      "cell_type": "code",
      "source": [
        "grid_out6 = GridSearchCV(estimator=modeloFinal, param_grid=parametros6)"
      ],
      "metadata": {
        "id": "pPKkB_QxzN-R"
      },
      "execution_count": null,
      "outputs": []
    },
    {
      "cell_type": "code",
      "source": [
        "grid_result6 = grid_out6.fit(X_train, y_train)"
      ],
      "metadata": {
        "id": "wVWc5CJyzNw4"
      },
      "execution_count": null,
      "outputs": []
    },
    {
      "cell_type": "code",
      "source": [
        "y_preds_6 = grid_result6.predict(X_test)"
      ],
      "metadata": {
        "id": "r7dnqggizNql"
      },
      "execution_count": null,
      "outputs": []
    },
    {
      "cell_type": "markdown",
      "source": [
        "### Métricas Arquitectura 6"
      ],
      "metadata": {
        "id": "VqZCH7bqz1WG"
      }
    },
    {
      "cell_type": "code",
      "source": [
        "r2r6 = r2_score(y_test, y_preds_6)\n",
        "r2r6"
      ],
      "metadata": {
        "colab": {
          "base_uri": "https://localhost:8080/"
        },
        "id": "kUBATECZzzYQ",
        "outputId": "332b67ef-8ca9-4471-a94e-5f0e41a7d1a6"
      },
      "execution_count": null,
      "outputs": [
        {
          "output_type": "execute_result",
          "data": {
            "text/plain": [
              "0.6907196532445735"
            ]
          },
          "metadata": {},
          "execution_count": 43
        }
      ]
    },
    {
      "cell_type": "code",
      "source": [
        "MSE = mean_squared_error(y_test, y_preds_6)\n",
        "RMSE6 = math.sqrt(MSE)\n",
        "RMSE6"
      ],
      "metadata": {
        "colab": {
          "base_uri": "https://localhost:8080/"
        },
        "id": "AtP7fI7Fz7ae",
        "outputId": "258d5b88-b936-4c9c-d119-63d8270bd632"
      },
      "execution_count": null,
      "outputs": [
        {
          "output_type": "execute_result",
          "data": {
            "text/plain": [
              "1.917749784774699"
            ]
          },
          "metadata": {},
          "execution_count": 44
        }
      ]
    },
    {
      "cell_type": "markdown",
      "source": [
        "### Resumen"
      ],
      "metadata": {
        "id": "DY-oVZD30CIj"
      }
    },
    {
      "cell_type": "markdown",
      "source": [
        "La arquitectura que mejor se desempeño tanto para ajustarse al modelo como para hacer predicciones fue el modelo 6 pero el modelo 3 es técnicamente igual de bueno para ajustarse como para hacer predicciones. La tercera mejor opción es el modelo 4 con 5 puntos menos en el ajuste. Estos 3 modelos se utilizarán en conjunto con PCA"
      ],
      "metadata": {
        "id": "2GHtXzN68NMn"
      }
    },
    {
      "cell_type": "code",
      "source": [
        "DFsummary = { 'Arquitectura' : [\"Arq1\",\"Arq2\",\"Arq3\",\"Arq4\",\"Arq5\",\"Arq6\"],\n",
        "             'R2': [r2r1,r2r2,r2r3,r2r4,r2r5,r2r6],\n",
        "             'RMSE': [RMSE1,RMSE2,RMSE3,RMSE4,RMSE5,RMSE6]}\n",
        "DFsummary = pd.DataFrame(DFsummary, columns =['Arquitectura', 'R2', 'RMSE'])\n",
        "DFsummary"
      ],
      "metadata": {
        "colab": {
          "base_uri": "https://localhost:8080/",
          "height": 238
        },
        "id": "qDbrdCsB0BUr",
        "outputId": "f43879fa-23ee-44ee-981b-bf851953e297"
      },
      "execution_count": null,
      "outputs": [
        {
          "output_type": "execute_result",
          "data": {
            "text/plain": [
              "  Arquitectura        R2      RMSE\n",
              "0         Arq1  0.737494  1.766792\n",
              "1         Arq2  0.634076  2.085986\n",
              "2         Arq3  0.672976  1.971994\n",
              "3         Arq4  0.699277  1.891032\n",
              "4         Arq5  0.554874  2.300687\n",
              "5         Arq6  0.690720  1.917750"
            ],
            "text/html": [
              "\n",
              "  <div id=\"df-a040b2ce-4327-4664-bf54-3830e760dc2c\">\n",
              "    <div class=\"colab-df-container\">\n",
              "      <div>\n",
              "<style scoped>\n",
              "    .dataframe tbody tr th:only-of-type {\n",
              "        vertical-align: middle;\n",
              "    }\n",
              "\n",
              "    .dataframe tbody tr th {\n",
              "        vertical-align: top;\n",
              "    }\n",
              "\n",
              "    .dataframe thead th {\n",
              "        text-align: right;\n",
              "    }\n",
              "</style>\n",
              "<table border=\"1\" class=\"dataframe\">\n",
              "  <thead>\n",
              "    <tr style=\"text-align: right;\">\n",
              "      <th></th>\n",
              "      <th>Arquitectura</th>\n",
              "      <th>R2</th>\n",
              "      <th>RMSE</th>\n",
              "    </tr>\n",
              "  </thead>\n",
              "  <tbody>\n",
              "    <tr>\n",
              "      <th>0</th>\n",
              "      <td>Arq1</td>\n",
              "      <td>0.737494</td>\n",
              "      <td>1.766792</td>\n",
              "    </tr>\n",
              "    <tr>\n",
              "      <th>1</th>\n",
              "      <td>Arq2</td>\n",
              "      <td>0.634076</td>\n",
              "      <td>2.085986</td>\n",
              "    </tr>\n",
              "    <tr>\n",
              "      <th>2</th>\n",
              "      <td>Arq3</td>\n",
              "      <td>0.672976</td>\n",
              "      <td>1.971994</td>\n",
              "    </tr>\n",
              "    <tr>\n",
              "      <th>3</th>\n",
              "      <td>Arq4</td>\n",
              "      <td>0.699277</td>\n",
              "      <td>1.891032</td>\n",
              "    </tr>\n",
              "    <tr>\n",
              "      <th>4</th>\n",
              "      <td>Arq5</td>\n",
              "      <td>0.554874</td>\n",
              "      <td>2.300687</td>\n",
              "    </tr>\n",
              "    <tr>\n",
              "      <th>5</th>\n",
              "      <td>Arq6</td>\n",
              "      <td>0.690720</td>\n",
              "      <td>1.917750</td>\n",
              "    </tr>\n",
              "  </tbody>\n",
              "</table>\n",
              "</div>\n",
              "      <button class=\"colab-df-convert\" onclick=\"convertToInteractive('df-a040b2ce-4327-4664-bf54-3830e760dc2c')\"\n",
              "              title=\"Convert this dataframe to an interactive table.\"\n",
              "              style=\"display:none;\">\n",
              "        \n",
              "  <svg xmlns=\"http://www.w3.org/2000/svg\" height=\"24px\"viewBox=\"0 0 24 24\"\n",
              "       width=\"24px\">\n",
              "    <path d=\"M0 0h24v24H0V0z\" fill=\"none\"/>\n",
              "    <path d=\"M18.56 5.44l.94 2.06.94-2.06 2.06-.94-2.06-.94-.94-2.06-.94 2.06-2.06.94zm-11 1L8.5 8.5l.94-2.06 2.06-.94-2.06-.94L8.5 2.5l-.94 2.06-2.06.94zm10 10l.94 2.06.94-2.06 2.06-.94-2.06-.94-.94-2.06-.94 2.06-2.06.94z\"/><path d=\"M17.41 7.96l-1.37-1.37c-.4-.4-.92-.59-1.43-.59-.52 0-1.04.2-1.43.59L10.3 9.45l-7.72 7.72c-.78.78-.78 2.05 0 2.83L4 21.41c.39.39.9.59 1.41.59.51 0 1.02-.2 1.41-.59l7.78-7.78 2.81-2.81c.8-.78.8-2.07 0-2.86zM5.41 20L4 18.59l7.72-7.72 1.47 1.35L5.41 20z\"/>\n",
              "  </svg>\n",
              "      </button>\n",
              "      \n",
              "  <style>\n",
              "    .colab-df-container {\n",
              "      display:flex;\n",
              "      flex-wrap:wrap;\n",
              "      gap: 12px;\n",
              "    }\n",
              "\n",
              "    .colab-df-convert {\n",
              "      background-color: #E8F0FE;\n",
              "      border: none;\n",
              "      border-radius: 50%;\n",
              "      cursor: pointer;\n",
              "      display: none;\n",
              "      fill: #1967D2;\n",
              "      height: 32px;\n",
              "      padding: 0 0 0 0;\n",
              "      width: 32px;\n",
              "    }\n",
              "\n",
              "    .colab-df-convert:hover {\n",
              "      background-color: #E2EBFA;\n",
              "      box-shadow: 0px 1px 2px rgba(60, 64, 67, 0.3), 0px 1px 3px 1px rgba(60, 64, 67, 0.15);\n",
              "      fill: #174EA6;\n",
              "    }\n",
              "\n",
              "    [theme=dark] .colab-df-convert {\n",
              "      background-color: #3B4455;\n",
              "      fill: #D2E3FC;\n",
              "    }\n",
              "\n",
              "    [theme=dark] .colab-df-convert:hover {\n",
              "      background-color: #434B5C;\n",
              "      box-shadow: 0px 1px 3px 1px rgba(0, 0, 0, 0.15);\n",
              "      filter: drop-shadow(0px 1px 2px rgba(0, 0, 0, 0.3));\n",
              "      fill: #FFFFFF;\n",
              "    }\n",
              "  </style>\n",
              "\n",
              "      <script>\n",
              "        const buttonEl =\n",
              "          document.querySelector('#df-a040b2ce-4327-4664-bf54-3830e760dc2c button.colab-df-convert');\n",
              "        buttonEl.style.display =\n",
              "          google.colab.kernel.accessAllowed ? 'block' : 'none';\n",
              "\n",
              "        async function convertToInteractive(key) {\n",
              "          const element = document.querySelector('#df-a040b2ce-4327-4664-bf54-3830e760dc2c');\n",
              "          const dataTable =\n",
              "            await google.colab.kernel.invokeFunction('convertToInteractive',\n",
              "                                                     [key], {});\n",
              "          if (!dataTable) return;\n",
              "\n",
              "          const docLinkHtml = 'Like what you see? Visit the ' +\n",
              "            '<a target=\"_blank\" href=https://colab.research.google.com/notebooks/data_table.ipynb>data table notebook</a>'\n",
              "            + ' to learn more about interactive tables.';\n",
              "          element.innerHTML = '';\n",
              "          dataTable['output_type'] = 'display_data';\n",
              "          await google.colab.output.renderOutput(dataTable, element);\n",
              "          const docLink = document.createElement('div');\n",
              "          docLink.innerHTML = docLinkHtml;\n",
              "          element.appendChild(docLink);\n",
              "        }\n",
              "      </script>\n",
              "    </div>\n",
              "  </div>\n",
              "  "
            ]
          },
          "metadata": {},
          "execution_count": 45
        }
      ]
    },
    {
      "cell_type": "markdown",
      "source": [
        "### **PCA Principal Component Analisys**"
      ],
      "metadata": {
        "id": "hHk69u9o8QxG"
      }
    },
    {
      "cell_type": "code",
      "source": [
        "pca = PCA(n_components=11)"
      ],
      "metadata": {
        "id": "ajsIszkN4AkV"
      },
      "execution_count": null,
      "outputs": []
    },
    {
      "cell_type": "code",
      "source": [
        "X_train_pca = pca.fit_transform(X_train)\n",
        "X_test_pca = pca.transform(X_test)"
      ],
      "metadata": {
        "id": "6AIRrc4m8OpI"
      },
      "execution_count": null,
      "outputs": []
    },
    {
      "cell_type": "code",
      "source": [
        "X_train_pca.shape"
      ],
      "metadata": {
        "colab": {
          "base_uri": "https://localhost:8080/"
        },
        "id": "g4I_6lWX8nru",
        "outputId": "5d4e8f17-3bc8-47aa-ce01-797763a6f7dc"
      },
      "execution_count": null,
      "outputs": [
        {
          "output_type": "execute_result",
          "data": {
            "text/plain": [
              "(519, 11)"
            ]
          },
          "metadata": {},
          "execution_count": 48
        }
      ]
    },
    {
      "cell_type": "code",
      "source": [
        "pca.explained_variance_ratio_"
      ],
      "metadata": {
        "colab": {
          "base_uri": "https://localhost:8080/"
        },
        "id": "I9Jg_4o08p5P",
        "outputId": "09df32f2-f288-49d0-b120-60512cc6ab26"
      },
      "execution_count": null,
      "outputs": [
        {
          "output_type": "execute_result",
          "data": {
            "text/plain": [
              "array([0.11670044, 0.07628211, 0.05157677, 0.05114657, 0.04530119,\n",
              "       0.04392138, 0.04275089, 0.03793792, 0.03559743, 0.03534855,\n",
              "       0.03242967])"
            ]
          },
          "metadata": {},
          "execution_count": 49
        }
      ]
    },
    {
      "cell_type": "code",
      "source": [
        "pca.explained_variance_ratio_.cumsum()"
      ],
      "metadata": {
        "colab": {
          "base_uri": "https://localhost:8080/"
        },
        "id": "Rsa6CuyI8sBS",
        "outputId": "a20f53b8-cfd9-43a0-d703-42b28339def3"
      },
      "execution_count": null,
      "outputs": [
        {
          "output_type": "execute_result",
          "data": {
            "text/plain": [
              "array([0.11670044, 0.19298255, 0.24455931, 0.29570588, 0.34100707,\n",
              "       0.38492845, 0.42767935, 0.46561726, 0.50121469, 0.53656324,\n",
              "       0.5689929 ])"
            ]
          },
          "metadata": {},
          "execution_count": 50
        }
      ]
    },
    {
      "cell_type": "code",
      "source": [
        "np.sum(pca.explained_variance_ratio_)"
      ],
      "metadata": {
        "colab": {
          "base_uri": "https://localhost:8080/"
        },
        "id": "1H7yuhQh9UF8",
        "outputId": "e47153c9-2ff0-451c-f801-5838f98ba343"
      },
      "execution_count": null,
      "outputs": [
        {
          "output_type": "execute_result",
          "data": {
            "text/plain": [
              "0.5689929030291697"
            ]
          },
          "metadata": {},
          "execution_count": 51
        }
      ]
    },
    {
      "cell_type": "code",
      "source": [
        "np.round(pca.components_, 2)"
      ],
      "metadata": {
        "colab": {
          "base_uri": "https://localhost:8080/"
        },
        "id": "tPVHd2SP9fLB",
        "outputId": "d744c350-b119-4bb1-d1cd-d9edff2afcb9"
      },
      "execution_count": null,
      "outputs": [
        {
          "output_type": "execute_result",
          "data": {
            "text/plain": [
              "array([[-0.24, -0.06,  0.16, -0.18, -0.01,  0.01, -0.31, -0.28,  0.18,\n",
              "         0.12,  0.08, -0.06,  0.21, -0.2 ,  0.23,  0.05, -0.09, -0.01,\n",
              "         0.09, -0.08, -0.26, -0.15, -0.09, -0.06,  0.08,  0.09,  0.18,\n",
              "         0.15,  0.01,  0.1 , -0.4 , -0.38],\n",
              "       [ 0.16, -0.34,  0.09,  0.17, -0.06,  0.02,  0.29,  0.28, -0.2 ,\n",
              "        -0.1 , -0.03,  0.01, -0.12, -0.16,  0.09,  0.13, -0.  , -0.05,\n",
              "        -0.12,  0.01, -0.08,  0.23,  0.01,  0.02,  0.19,  0.29,  0.33,\n",
              "         0.41,  0.13,  0.18, -0.09, -0.09],\n",
              "       [ 0.11, -0.02,  0.24,  0.12, -0.09, -0.01, -0.2 , -0.26,  0.3 ,\n",
              "         0.32, -0.13, -0.03,  0.01,  0.03, -0.14,  0.27, -0.28,  0.17,\n",
              "        -0.03, -0.11,  0.01,  0.11, -0.08,  0.03,  0.02,  0.18,  0.14,\n",
              "         0.19, -0.13,  0.06,  0.36,  0.35],\n",
              "       [ 0.24,  0.18,  0.18,  0.31,  0.01, -0.34,  0.05,  0.03,  0.12,\n",
              "         0.01, -0.1 , -0.07, -0.25,  0.03,  0.11, -0.04,  0.1 ,  0.01,\n",
              "         0.25, -0.11, -0.07,  0.12, -0.15, -0.27, -0.3 , -0.17, -0.03,\n",
              "        -0.09, -0.07,  0.44, -0.12, -0.13],\n",
              "       [-0.29, -0.03,  0.03, -0.14, -0.38, -0.24,  0.11,  0.11, -0.27,\n",
              "        -0.27, -0.14,  0.01,  0.19, -0.14, -0.13,  0.31, -0.21,  0.18,\n",
              "         0.12,  0.14, -0.03, -0.19, -0.08, -0.18, -0.27, -0.17,  0.08,\n",
              "         0.08, -0.13,  0.  ,  0.07,  0.07],\n",
              "       [ 0.18, -0.23, -0.33,  0.07, -0.28, -0.22, -0.08, -0.1 ,  0.11,\n",
              "         0.25, -0.13,  0.16, -0.05, -0.23, -0.13, -0.24, -0.11, -0.11,\n",
              "         0.22,  0.03,  0.13, -0.11,  0.42,  0.11, -0.16, -0.12,  0.04,\n",
              "         0.16,  0.22, -0.05, -0.04, -0.07],\n",
              "       [ 0.03,  0.11,  0.11,  0.1 , -0.28, -0.4 ,  0.04, -0.11, -0.05,\n",
              "         0.12,  0.18,  0.31, -0.11,  0.03,  0.04,  0.13, -0.09, -0.  ,\n",
              "        -0.14,  0.38, -0.06,  0.02, -0.24,  0.29,  0.27,  0.12, -0.23,\n",
              "        -0.2 ,  0.16, -0.01, -0.08, -0.08],\n",
              "       [ 0.09, -0.3 ,  0.1 ,  0.1 , -0.05, -0.01, -0.05,  0.01,  0.07,\n",
              "        -0.13,  0.34, -0.35, -0.07, -0.05,  0.13,  0.19, -0.18, -0.02,\n",
              "        -0.1 , -0.23, -0.12, -0.01, -0.07,  0.08, -0.07, -0.38, -0.09,\n",
              "        -0.13,  0.47, -0.16,  0.08,  0.08],\n",
              "       [-0.05,  0.07,  0.15, -0.23, -0.22, -0.18,  0.07,  0.14,  0.1 ,\n",
              "         0.19,  0.01, -0.26,  0.28,  0.31,  0.03, -0.09,  0.4 , -0.29,\n",
              "         0.09,  0.05,  0.19, -0.07, -0.18,  0.07, -0.09,  0.08,  0.22,\n",
              "         0.13,  0.29,  0.02,  0.11,  0.1 ],\n",
              "       [ 0.02, -0.25,  0.06, -0.19,  0.08,  0.12,  0.1 , -0.05,  0.05,\n",
              "         0.17, -0.32,  0.21, -0.03,  0.08,  0.06,  0.04, -0.22, -0.49,\n",
              "        -0.39,  0.12,  0.03,  0.1 , -0.24, -0.09, -0.25, -0.26, -0.  ,\n",
              "        -0.06, -0.09,  0.01, -0.06, -0.06],\n",
              "       [ 0.18, -0.08, -0.38, -0.1 , -0.02, -0.18,  0.05,  0.1 ,  0.15,\n",
              "         0.17,  0.34, -0.03,  0.26, -0.11, -0.05,  0.07,  0.08,  0.13,\n",
              "        -0.42, -0.06,  0.1 , -0.14, -0.04, -0.34,  0.16, -0.06, -0.03,\n",
              "        -0.02, -0.16,  0.32,  0.06, -0.02]])"
            ]
          },
          "metadata": {},
          "execution_count": 52
        }
      ]
    },
    {
      "cell_type": "markdown",
      "source": [
        "### Arquitectura 3 con PCA"
      ],
      "metadata": {
        "id": "o3D2Bf7HGQgQ"
      }
    },
    {
      "cell_type": "code",
      "source": [
        "parametros3 = {\n",
        "    'batch_size': [15],\n",
        "    'activation_fn': ['relu'],\n",
        "    'epochs': [100],\n",
        "    'lr': [0.01],\n",
        "    'layers': [(2, 2, 2)],\n",
        "    'tipo': ['regresion'],\n",
        "    'n_inputs': [X_train_pca.shape[1]],\n",
        "    'n_clases': [len(y_train.value_counts())]\n",
        "}"
      ],
      "metadata": {
        "id": "Bfab6wf7DRJN"
      },
      "execution_count": null,
      "outputs": []
    },
    {
      "cell_type": "code",
      "source": [
        "grid_out3 = GridSearchCV(estimator=modeloFinal, param_grid=parametros3)"
      ],
      "metadata": {
        "id": "5KLPQf-iGcei"
      },
      "execution_count": null,
      "outputs": []
    },
    {
      "cell_type": "code",
      "source": [
        "grid_result3 = grid_out3.fit(X_train_pca, y_train)"
      ],
      "metadata": {
        "id": "WgBRNYjXGiAJ"
      },
      "execution_count": null,
      "outputs": []
    },
    {
      "cell_type": "code",
      "source": [
        "y_preds_3pca = grid_result3.predict(X_test_pca)"
      ],
      "metadata": {
        "id": "_U1E00i8Gcb0"
      },
      "execution_count": null,
      "outputs": []
    },
    {
      "cell_type": "markdown",
      "source": [
        "#### Métricas de la Arquitectura 3 con PCA"
      ],
      "metadata": {
        "id": "xqwRaXdnJYJO"
      }
    },
    {
      "cell_type": "code",
      "source": [
        "r2r3 =r2_score(y_test, y_preds_3pca)\n",
        "r2r3"
      ],
      "metadata": {
        "colab": {
          "base_uri": "https://localhost:8080/"
        },
        "id": "NowQ9y10IyN2",
        "outputId": "1c9b76c7-898b-459f-f449-5cc719c1f139"
      },
      "execution_count": null,
      "outputs": [
        {
          "output_type": "execute_result",
          "data": {
            "text/plain": [
              "0.7038224884667549"
            ]
          },
          "metadata": {},
          "execution_count": 57
        }
      ]
    },
    {
      "cell_type": "code",
      "source": [
        "MSE = mean_squared_error(y_test, y_preds_3pca)\n",
        "RMSE3 = math.sqrt(MSE)\n",
        "RMSE3"
      ],
      "metadata": {
        "colab": {
          "base_uri": "https://localhost:8080/"
        },
        "id": "m9uEBKZ1I0_g",
        "outputId": "e1bb77bd-2b10-43b5-f038-fe16c78717f4"
      },
      "execution_count": null,
      "outputs": [
        {
          "output_type": "execute_result",
          "data": {
            "text/plain": [
              "1.87668689289149"
            ]
          },
          "metadata": {},
          "execution_count": 58
        }
      ]
    },
    {
      "cell_type": "markdown",
      "source": [
        "### Arquitectura 4 con PCA"
      ],
      "metadata": {
        "id": "N6KHr4FWMZ5F"
      }
    },
    {
      "cell_type": "code",
      "source": [
        "parametros4 = {\n",
        "    'batch_size': [50],\n",
        "    'activation_fn': ['relu'],\n",
        "    'epochs': [480],\n",
        "    'lr': [0.01],\n",
        "    'layers': [(3,  20, 15)],\n",
        "    'tipo': ['regresion'],\n",
        "    'n_inputs': [X_train_pca.shape[1]],\n",
        "    'n_clases': [len(y_train.value_counts())]\n",
        "}"
      ],
      "metadata": {
        "id": "5AxB5KpIOeKO"
      },
      "execution_count": null,
      "outputs": []
    },
    {
      "cell_type": "code",
      "source": [
        "grid_out4 = GridSearchCV(estimator=modeloFinal, param_grid=parametros4)"
      ],
      "metadata": {
        "id": "PJuR7X8QOeKP"
      },
      "execution_count": null,
      "outputs": []
    },
    {
      "cell_type": "code",
      "source": [
        "grid_result4 = grid_out4.fit(X_train_pca, y_train)"
      ],
      "metadata": {
        "id": "KTFIwvsnOeKP"
      },
      "execution_count": null,
      "outputs": []
    },
    {
      "cell_type": "code",
      "source": [
        "y_preds_4pca = grid_result4.predict(X_test_pca)"
      ],
      "metadata": {
        "id": "-B-IvYSQOeKQ"
      },
      "execution_count": null,
      "outputs": []
    },
    {
      "cell_type": "markdown",
      "source": [
        "### Métricas Arquitectura 4 con PCA"
      ],
      "metadata": {
        "id": "_7jVsyH8OlMg"
      }
    },
    {
      "cell_type": "code",
      "source": [
        "r2r4 =r2_score(y_test, y_preds_4pca)\n",
        "r2r4"
      ],
      "metadata": {
        "colab": {
          "base_uri": "https://localhost:8080/"
        },
        "outputId": "29a8f8a1-d5cf-437f-a18c-12b5a7c945e5",
        "id": "rW89VIh3OlMg"
      },
      "execution_count": null,
      "outputs": [
        {
          "output_type": "execute_result",
          "data": {
            "text/plain": [
              "0.6652710539551608"
            ]
          },
          "metadata": {},
          "execution_count": 63
        }
      ]
    },
    {
      "cell_type": "code",
      "source": [
        "MSE = mean_squared_error(y_test, y_preds_4pca)\n",
        "RMSE4 = math.sqrt(MSE)\n",
        "RMSE4"
      ],
      "metadata": {
        "colab": {
          "base_uri": "https://localhost:8080/"
        },
        "outputId": "6d0f2384-702d-407b-a25a-7b6d82ffc226",
        "id": "GQii_V5yOlMi"
      },
      "execution_count": null,
      "outputs": [
        {
          "output_type": "execute_result",
          "data": {
            "text/plain": [
              "1.9950896513046483"
            ]
          },
          "metadata": {},
          "execution_count": 64
        }
      ]
    },
    {
      "cell_type": "markdown",
      "source": [
        "### **Arquitectura 6 con PCA**"
      ],
      "metadata": {
        "id": "f9fcLdZwPp0k"
      }
    },
    {
      "cell_type": "code",
      "source": [
        "parametros6 = {\n",
        "    'batch_size': [10],\n",
        "    'activation_fn': ['relu'],\n",
        "    'epochs': [150],\n",
        "    'lr': [0.01],\n",
        "    'layers': [(2, 5, 3)],\n",
        "    'tipo': ['regresion'],\n",
        "    'n_inputs': [X_train_pca.shape[1]],\n",
        "    'n_clases': [len(y_train.value_counts())]\n",
        "}"
      ],
      "metadata": {
        "id": "BoRPWwbOPp0l"
      },
      "execution_count": null,
      "outputs": []
    },
    {
      "cell_type": "code",
      "source": [
        "grid_out6 = GridSearchCV(estimator=modeloFinal, param_grid=parametros6)"
      ],
      "metadata": {
        "id": "sBFxaPqfPp0m"
      },
      "execution_count": null,
      "outputs": []
    },
    {
      "cell_type": "code",
      "source": [
        "grid_result6 = grid_out6.fit(X_train_pca, y_train)"
      ],
      "metadata": {
        "id": "8d22rEd-Pp0m"
      },
      "execution_count": null,
      "outputs": []
    },
    {
      "cell_type": "code",
      "source": [
        "y_preds_6pca = grid_result6.predict(X_test_pca)"
      ],
      "metadata": {
        "id": "VoZ2F1PFPp0n"
      },
      "execution_count": null,
      "outputs": []
    },
    {
      "cell_type": "markdown",
      "source": [
        "#### Métricas Arquitectura 6"
      ],
      "metadata": {
        "id": "4_qM8Xt7Pw0s"
      }
    },
    {
      "cell_type": "code",
      "source": [
        "r2r6 = r2_score(y_test, y_preds_6pca)\n",
        "r2r6"
      ],
      "metadata": {
        "colab": {
          "base_uri": "https://localhost:8080/"
        },
        "outputId": "a612ffc5-fc6b-4a2f-ff12-944a034b42b4",
        "id": "Oe0GBGNKPw0s"
      },
      "execution_count": null,
      "outputs": [
        {
          "output_type": "execute_result",
          "data": {
            "text/plain": [
              "0.7019774077049136"
            ]
          },
          "metadata": {},
          "execution_count": 69
        }
      ]
    },
    {
      "cell_type": "code",
      "source": [
        "MSE = mean_squared_error(y_test, y_preds_6pca)\n",
        "RMSE6 = math.sqrt(MSE)\n",
        "RMSE6"
      ],
      "metadata": {
        "colab": {
          "base_uri": "https://localhost:8080/"
        },
        "outputId": "b7fea977-5936-4adf-d0d8-65c2090230ab",
        "id": "7ixRikSaPw0s"
      },
      "execution_count": null,
      "outputs": [
        {
          "output_type": "execute_result",
          "data": {
            "text/plain": [
              "1.8825233638033994"
            ]
          },
          "metadata": {},
          "execution_count": 70
        }
      ]
    },
    {
      "cell_type": "code",
      "source": [
        "DFsummaryF = { 'Arquitectura con PCA' : [\"Arq3\",\"Arq4\",\"Arq6\"],\n",
        "             'R2': [r2r3,r2r4,r2r6],\n",
        "             'RMSE': [RMSE3,RMSE4,RMSE6]}\n",
        "DFsummaryF = pd.DataFrame(DFsummaryF, columns =['Arquitectura con PCA', 'R2', 'RMSE'])\n",
        "DFsummaryF"
      ],
      "metadata": {
        "colab": {
          "base_uri": "https://localhost:8080/",
          "height": 143
        },
        "id": "pYFG3_rPP_Gi",
        "outputId": "eec4e5e8-c960-4a57-8ff1-d8fbff6ec93c"
      },
      "execution_count": null,
      "outputs": [
        {
          "output_type": "execute_result",
          "data": {
            "text/plain": [
              "  Arquitectura con PCA        R2      RMSE\n",
              "0                 Arq3  0.703822  1.876687\n",
              "1                 Arq4  0.665271  1.995090\n",
              "2                 Arq6  0.701977  1.882523"
            ],
            "text/html": [
              "\n",
              "  <div id=\"df-7286dc9f-97a2-4e05-b863-3a8158537964\">\n",
              "    <div class=\"colab-df-container\">\n",
              "      <div>\n",
              "<style scoped>\n",
              "    .dataframe tbody tr th:only-of-type {\n",
              "        vertical-align: middle;\n",
              "    }\n",
              "\n",
              "    .dataframe tbody tr th {\n",
              "        vertical-align: top;\n",
              "    }\n",
              "\n",
              "    .dataframe thead th {\n",
              "        text-align: right;\n",
              "    }\n",
              "</style>\n",
              "<table border=\"1\" class=\"dataframe\">\n",
              "  <thead>\n",
              "    <tr style=\"text-align: right;\">\n",
              "      <th></th>\n",
              "      <th>Arquitectura con PCA</th>\n",
              "      <th>R2</th>\n",
              "      <th>RMSE</th>\n",
              "    </tr>\n",
              "  </thead>\n",
              "  <tbody>\n",
              "    <tr>\n",
              "      <th>0</th>\n",
              "      <td>Arq3</td>\n",
              "      <td>0.703822</td>\n",
              "      <td>1.876687</td>\n",
              "    </tr>\n",
              "    <tr>\n",
              "      <th>1</th>\n",
              "      <td>Arq4</td>\n",
              "      <td>0.665271</td>\n",
              "      <td>1.995090</td>\n",
              "    </tr>\n",
              "    <tr>\n",
              "      <th>2</th>\n",
              "      <td>Arq6</td>\n",
              "      <td>0.701977</td>\n",
              "      <td>1.882523</td>\n",
              "    </tr>\n",
              "  </tbody>\n",
              "</table>\n",
              "</div>\n",
              "      <button class=\"colab-df-convert\" onclick=\"convertToInteractive('df-7286dc9f-97a2-4e05-b863-3a8158537964')\"\n",
              "              title=\"Convert this dataframe to an interactive table.\"\n",
              "              style=\"display:none;\">\n",
              "        \n",
              "  <svg xmlns=\"http://www.w3.org/2000/svg\" height=\"24px\"viewBox=\"0 0 24 24\"\n",
              "       width=\"24px\">\n",
              "    <path d=\"M0 0h24v24H0V0z\" fill=\"none\"/>\n",
              "    <path d=\"M18.56 5.44l.94 2.06.94-2.06 2.06-.94-2.06-.94-.94-2.06-.94 2.06-2.06.94zm-11 1L8.5 8.5l.94-2.06 2.06-.94-2.06-.94L8.5 2.5l-.94 2.06-2.06.94zm10 10l.94 2.06.94-2.06 2.06-.94-2.06-.94-.94-2.06-.94 2.06-2.06.94z\"/><path d=\"M17.41 7.96l-1.37-1.37c-.4-.4-.92-.59-1.43-.59-.52 0-1.04.2-1.43.59L10.3 9.45l-7.72 7.72c-.78.78-.78 2.05 0 2.83L4 21.41c.39.39.9.59 1.41.59.51 0 1.02-.2 1.41-.59l7.78-7.78 2.81-2.81c.8-.78.8-2.07 0-2.86zM5.41 20L4 18.59l7.72-7.72 1.47 1.35L5.41 20z\"/>\n",
              "  </svg>\n",
              "      </button>\n",
              "      \n",
              "  <style>\n",
              "    .colab-df-container {\n",
              "      display:flex;\n",
              "      flex-wrap:wrap;\n",
              "      gap: 12px;\n",
              "    }\n",
              "\n",
              "    .colab-df-convert {\n",
              "      background-color: #E8F0FE;\n",
              "      border: none;\n",
              "      border-radius: 50%;\n",
              "      cursor: pointer;\n",
              "      display: none;\n",
              "      fill: #1967D2;\n",
              "      height: 32px;\n",
              "      padding: 0 0 0 0;\n",
              "      width: 32px;\n",
              "    }\n",
              "\n",
              "    .colab-df-convert:hover {\n",
              "      background-color: #E2EBFA;\n",
              "      box-shadow: 0px 1px 2px rgba(60, 64, 67, 0.3), 0px 1px 3px 1px rgba(60, 64, 67, 0.15);\n",
              "      fill: #174EA6;\n",
              "    }\n",
              "\n",
              "    [theme=dark] .colab-df-convert {\n",
              "      background-color: #3B4455;\n",
              "      fill: #D2E3FC;\n",
              "    }\n",
              "\n",
              "    [theme=dark] .colab-df-convert:hover {\n",
              "      background-color: #434B5C;\n",
              "      box-shadow: 0px 1px 3px 1px rgba(0, 0, 0, 0.15);\n",
              "      filter: drop-shadow(0px 1px 2px rgba(0, 0, 0, 0.3));\n",
              "      fill: #FFFFFF;\n",
              "    }\n",
              "  </style>\n",
              "\n",
              "      <script>\n",
              "        const buttonEl =\n",
              "          document.querySelector('#df-7286dc9f-97a2-4e05-b863-3a8158537964 button.colab-df-convert');\n",
              "        buttonEl.style.display =\n",
              "          google.colab.kernel.accessAllowed ? 'block' : 'none';\n",
              "\n",
              "        async function convertToInteractive(key) {\n",
              "          const element = document.querySelector('#df-7286dc9f-97a2-4e05-b863-3a8158537964');\n",
              "          const dataTable =\n",
              "            await google.colab.kernel.invokeFunction('convertToInteractive',\n",
              "                                                     [key], {});\n",
              "          if (!dataTable) return;\n",
              "\n",
              "          const docLinkHtml = 'Like what you see? Visit the ' +\n",
              "            '<a target=\"_blank\" href=https://colab.research.google.com/notebooks/data_table.ipynb>data table notebook</a>'\n",
              "            + ' to learn more about interactive tables.';\n",
              "          element.innerHTML = '';\n",
              "          dataTable['output_type'] = 'display_data';\n",
              "          await google.colab.output.renderOutput(dataTable, element);\n",
              "          const docLink = document.createElement('div');\n",
              "          docLink.innerHTML = docLinkHtml;\n",
              "          element.appendChild(docLink);\n",
              "        }\n",
              "      </script>\n",
              "    </div>\n",
              "  </div>\n",
              "  "
            ]
          },
          "metadata": {},
          "execution_count": 71
        }
      ]
    },
    {
      "cell_type": "markdown",
      "source": [
        "### **CONCLUSIÓN**"
      ],
      "metadata": {
        "id": "8ngc3gBtbTzC"
      }
    },
    {
      "cell_type": "markdown",
      "source": [
        "*   Luego de aplicar PCA a las 3 mejores arquitecturas se determinó que 11 componentes es la cantidad que mejor balance ofrece entre métricas y cantidad de variables, con poco menos de 1/3 del total de variabes se obtuvieron casi las mismas métricas que con las 33 columnas originales que contiene el dataset. \n",
        "\n"
      ],
      "metadata": {
        "id": "nQaTQD-Ib8vR"
      }
    },
    {
      "cell_type": "markdown",
      "source": [
        "### **RECOMENDACIONES**"
      ],
      "metadata": {
        "id": "cwvmfO25l0Ht"
      }
    },
    {
      "cell_type": "markdown",
      "source": [
        "\n",
        "\n",
        "*   Sería posible intentar otras arquitecturas con más capas, un learning rate mayor.\n",
        "*   Dado que las notas se encuentran en el rango de 0 a 20 es posible crear un modelo de clasificación.\n",
        "*   Debido a que dataset tiene una gran cantidad de variables es posible aplicarle aprendizaje no supervisado.\n",
        "*   Cuando se incrementó demasiado el número de epocas, la cantidad de capas y el learning rate, se obtuvieron valores de R2 más pobres\n",
        "*   Al utilizar un múmero mayor de 15 componentes con PCA, las redes disminuyeron su desempeño obteniendo R2 negativos.\n",
        "\n",
        "\n",
        "\n"
      ],
      "metadata": {
        "id": "cctQSubul6CG"
      }
    },
    {
      "cell_type": "code",
      "source": [],
      "metadata": {
        "id": "-BuQWhKdn23k"
      },
      "execution_count": null,
      "outputs": []
    }
  ]
}